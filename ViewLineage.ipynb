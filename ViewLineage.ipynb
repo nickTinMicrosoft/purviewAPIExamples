{
 "cells": [
  {
   "cell_type": "markdown",
   "metadata": {},
   "source": [
    "# Track Lineage\n",
    "\n",
    "To track data lineage in Azure Purview, you can use the Purview API to create or update relationships between different data entities in your catalog. Lineage typically involves mapping data flow between source and target entities, such as databases, tables, or files.\n"
   ]
  },
  {
   "cell_type": "markdown",
   "metadata": {},
   "source": [
    "## Using API Key"
   ]
  },
  {
   "cell_type": "code",
   "execution_count": 1,
   "metadata": {},
   "outputs": [],
   "source": [
    "import requests\n",
    "import msal\n",
    "from azure.identity import ClientSecretCredential\n"
   ]
  },
  {
   "cell_type": "code",
   "execution_count": null,
   "metadata": {},
   "outputs": [],
   "source": [
    "\n",
    "# Azure AD credentials and Purview settings\n",
    "client_id = '<YOUR_CLIENT_ID>'\n",
    "client_secret = '<YOUR_CLIENT_SECRET>'\n",
    "tenant_id = '<YOUR_TENANT_ID>'\n",
    "purview_account_name = '<YOUR_PURVIEW_ACCOUNT_NAME>'\n",
    "purview_endpoint = f'https://{purview_account_name}.purview.azure.com'\n",
    "\n",
    "# Authenticate using ClientSecretCredential\n",
    "def get_access_token():\n",
    "    credential = ClientSecretCredential(tenant_id, client_id, client_secret)\n",
    "    token = credential.get_token('https://purview.azure.net/.default')\n",
    "    return token.token\n",
    "\n",
    "# Example function to create lineage between two assets\n",
    "def create_lineage(source_entity_guid, target_entity_guid):\n",
    "    url = f\"{purview_endpoint}/catalog/api/atlas/v2/lineage/relations\"\n",
    "    headers = {\n",
    "        \"Authorization\": f\"Bearer {get_access_token()}\",\n",
    "        \"Content-Type\": \"application/json\"\n",
    "    }\n",
    "\n",
    "    lineage_payload = {\n",
    "        \"relationshipType\": \"DataFlow\",\n",
    "        \"end1\": {\"guid\": source_entity_guid},\n",
    "        \"end2\": {\"guid\": target_entity_guid}\n",
    "    }\n",
    "\n",
    "    response = requests.post(url, json=lineage_payload, headers=headers)\n",
    "\n",
    "    if response.status_code == 200:\n",
    "        print(f\"Lineage created between {source_entity_guid} and {target_entity_guid}.\")\n",
    "    else:\n",
    "        print(f\"Failed to create lineage: {response.status_code}, {response.text}\")\n",
    "\n",
    "# Example usage\n",
    "source_guid = \"<SOURCE_ENTITY_GUID>\"  # Replace with actual entity GUID\n",
    "target_guid = \"<TARGET_ENTITY_GUID>\"  # Replace with actual entity GUID\n",
    "create_lineage(source_guid, target_guid)\n"
   ]
  },
  {
   "cell_type": "markdown",
   "metadata": {},
   "source": [
    "## Using MFA"
   ]
  },
  {
   "cell_type": "code",
   "execution_count": null,
   "metadata": {},
   "outputs": [],
   "source": [
    "\n",
    "\n",
    "# Azure AD credentials and Purview settings\n",
    "client_id = '<YOUR_CLIENT_ID>'\n",
    "tenant_id = '<YOUR_TENANT_ID>'\n",
    "purview_account_name = '<YOUR_PURVIEW_ACCOUNT_NAME>'\n",
    "purview_endpoint = f\"https://{purview_account_name}.purview.azure.com\"\n",
    "\n",
    "# Authentication authority and scope for Purview API\n",
    "authority = f\"https://login.microsoftonline.com/{tenant_id}\"\n",
    "scope = [\"https://purview.azure.net/.default\"]  # Purview API scope\n",
    "\n",
    "# Initialize MSAL public client application for device code flow\n",
    "app = msal.PublicClientApplication(client_id, authority=authority)\n",
    "\n",
    "# Initiate the device code flow for MFA authentication\n",
    "flow = app.initiate_device_flow(scopes=scope)\n",
    "if \"user_code\" not in flow:\n",
    "    raise Exception(\"Device flow initiation failed.\")\n",
    "\n",
    "# Display the code and URL for the user to authenticate\n",
    "print(f\"Go to {flow['verification_uri']} and enter the code: {flow['user_code']}\")\n",
    "\n",
    "# Wait for user to complete authentication and MFA\n",
    "token_result = app.acquire_token_by_device_flow(flow)\n",
    "if \"access_token\" not in token_result:\n",
    "    raise Exception(f\"Authentication failed: {token_result.get('error_description')}\")\n",
    "\n",
    "access_token = token_result['access_token']\n",
    "\n",
    "# Example function to create lineage between two assets\n",
    "def create_lineage(source_entity_guid, target_entity_guid):\n",
    "    url = f\"{purview_endpoint}/catalog/api/atlas/v2/lineage/relations\"\n",
    "    headers = {\n",
    "        \"Authorization\": f\"Bearer {access_token}\",\n",
    "        \"Content-Type\": \"application/json\"\n",
    "    }\n",
    "\n",
    "    lineage_payload = {\n",
    "        \"relationshipType\": \"DataFlow\",\n",
    "        \"end1\": {\"guid\": source_entity_guid},\n",
    "        \"end2\": {\"guid\": target_entity_guid}\n",
    "    }\n",
    "\n",
    "    response = requests.post(url, json=lineage_payload, headers=headers)\n",
    "\n",
    "    if response.status_code == 200:\n",
    "        print(f\"Lineage created between {source_entity_guid} and {target_entity_guid}.\")\n",
    "    else:\n",
    "        print(f\"Failed to create lineage: {response.status_code}, {response.text}\")\n",
    "\n",
    "# Example usage\n",
    "source_guid = \"<SOURCE_ENTITY_GUID>\"  # Replace with actual entity GUID\n",
    "target_guid = \"<TARGET_ENTITY_GUID>\"  # Replace with actual entity GUID\n",
    "create_lineage(source_guid, target_guid)\n"
   ]
  }
 ],
 "metadata": {
  "kernelspec": {
   "display_name": "Python 3",
   "language": "python",
   "name": "python3"
  },
  "language_info": {
   "codemirror_mode": {
    "name": "ipython",
    "version": 3
   },
   "file_extension": ".py",
   "mimetype": "text/x-python",
   "name": "python",
   "nbconvert_exporter": "python",
   "pygments_lexer": "ipython3",
   "version": "3.11.9"
  }
 },
 "nbformat": 4,
 "nbformat_minor": 2
}
