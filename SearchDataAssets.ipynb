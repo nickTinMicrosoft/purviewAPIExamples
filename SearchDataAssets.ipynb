{
 "cells": [
  {
   "cell_type": "markdown",
   "metadata": {},
   "source": [
    "# Search Assets\n",
    "\n",
    "To search for data assets in Azure Purview using its REST API, you can use the search endpoint to query data assets based on specific criteria like name, classification, or other metadata.\n",
    "\n",
    "\n",
    "## Code Breakdown:\n",
    "### Authentication:\n",
    "The get_access_token() function uses azure.identity.ClientSecretCredential to authenticate using client credentials and obtain an access token.\n",
    "Search Data Assets:\n",
    "\n",
    "The search_data_assets() function sends a POST request to the /search/advanced API endpoint. The keywords in the body represent the search term, and you can specify a limit for the number of results.\n",
    "\n",
    "Handle Results:\n",
    "The function processes the JSON response, extracts data asset details (like name, type, and GUID), and prints the result.\n"
   ]
  },
  {
   "cell_type": "code",
   "execution_count": 1,
   "metadata": {},
   "outputs": [],
   "source": [
    "import requests\n",
    "from azure.identity import ClientSecretCredential"
   ]
  },
  {
   "cell_type": "code",
   "execution_count": 2,
   "metadata": {},
   "outputs": [],
   "source": [
    "\n",
    "\n",
    "# Azure AD and Purview settings\n",
    "client_id = 'YOUR_CLIENT_ID' ## FROM APP REGISTRATION\n",
    "client_secret = '<YOUR_CLIENT_SECRET>' ## FROM APP REGISTRATION SECRET VALUE\n",
    "tenant_id = '<YOUR_TENANT_ID>'\n",
    "purview_account_name = '<YOUR_PURVIEW_ACCOUNT_NAME>'\n",
    "purview_endpoint = f'https://{purview_account_name}.purview.azure.com'\n",
    "\n",
    "# Authenticate using Azure AD to get the access token\n",
    "def get_access_token():\n",
    "    credential = ClientSecretCredential(tenant_id, client_id, client_secret)\n",
    "    token = credential.get_token('https://purview.azure.net/.default')\n",
    "    return token.token\n",
    "\n",
    "# Search data assets in Purview\n",
    "def search_data_assets(search_term):\n",
    "    url = f\"{purview_endpoint}/catalog/api/atlas/v2/search/advanced\"\n",
    "    headers = {\n",
    "        \"Authorization\": f\"Bearer {get_access_token()}\",\n",
    "        \"Content-Type\": \"application/json\"\n",
    "    }\n",
    "\n",
    "    # Define the search body\n",
    "    body = {\n",
    "        \"keywords\": search_term,  # Search term or keywords\n",
    "        \"limit\": 10               # Limit the number of results\n",
    "    }\n",
    "\n",
    "    response = requests.post(url, json=body, headers=headers)\n",
    "    \n",
    "    if response.status_code == 200:\n",
    "        assets = response.json().get('entities', [])\n",
    "        if assets:\n",
    "            for asset in assets:\n",
    "                print(f\"Name: {asset['attributes']['name']}, Type: {asset['typeName']}, GUID: {asset['guid']}\")\n",
    "        else:\n",
    "            print(\"No assets found.\")\n",
    "    else:\n",
    "        print(f\"Failed to search data assets: {response.text}\")\n",
    "\n"
   ]
  },
  {
   "cell_type": "code",
   "execution_count": null,
   "metadata": {},
   "outputs": [],
   "source": [
    "\n",
    "# Example usage\n",
    "search_term = 'HR'  # You can search by keywords related to the data asset\n",
    "search_data_assets(search_term)"
   ]
  },
  {
   "cell_type": "markdown",
   "metadata": {},
   "source": [
    "### Sample Response\n",
    "\n",
    "Name: sales-data-2023, Type: azure_blob_storage, GUID: 1234abcd-5678-efgh-ijkl-1234mnopqr\n",
    "Name: sales-data-2022, Type: azure_sql_table, GUID: 5678mnop-1234-abcd-efgh-5678ijklqrst\n"
   ]
  },
  {
   "cell_type": "markdown",
   "metadata": {},
   "source": [
    "## how to use API using MFA \n"
   ]
  },
  {
   "cell_type": "code",
   "execution_count": 7,
   "metadata": {},
   "outputs": [
    {
     "name": "stdout",
     "output_type": "stream",
     "text": [
      "Go to https://microsoft.com/devicelogin and enter the code: FE7M7DCCE\n"
     ]
    },
    {
     "ename": "KeyboardInterrupt",
     "evalue": "",
     "output_type": "error",
     "traceback": [
      "\u001b[1;31m---------------------------------------------------------------------------\u001b[0m",
      "\u001b[1;31mKeyboardInterrupt\u001b[0m                         Traceback (most recent call last)",
      "Cell \u001b[1;32mIn[7], line 28\u001b[0m\n\u001b[0;32m     25\u001b[0m \u001b[38;5;28mprint\u001b[39m(\u001b[38;5;124mf\u001b[39m\u001b[38;5;124m\"\u001b[39m\u001b[38;5;124mGo to \u001b[39m\u001b[38;5;132;01m{\u001b[39;00mflow[\u001b[38;5;124m'\u001b[39m\u001b[38;5;124mverification_uri\u001b[39m\u001b[38;5;124m'\u001b[39m]\u001b[38;5;132;01m}\u001b[39;00m\u001b[38;5;124m and enter the code: \u001b[39m\u001b[38;5;132;01m{\u001b[39;00mflow[\u001b[38;5;124m'\u001b[39m\u001b[38;5;124muser_code\u001b[39m\u001b[38;5;124m'\u001b[39m]\u001b[38;5;132;01m}\u001b[39;00m\u001b[38;5;124m\"\u001b[39m)\n\u001b[0;32m     27\u001b[0m \u001b[38;5;66;03m# Wait for user to complete authentication and MFA\u001b[39;00m\n\u001b[1;32m---> 28\u001b[0m token_result \u001b[38;5;241m=\u001b[39m \u001b[43mapp\u001b[49m\u001b[38;5;241;43m.\u001b[39;49m\u001b[43macquire_token_by_device_flow\u001b[49m\u001b[43m(\u001b[49m\u001b[43mflow\u001b[49m\u001b[43m)\u001b[49m\n\u001b[0;32m     29\u001b[0m \u001b[38;5;28;01mif\u001b[39;00m \u001b[38;5;124m\"\u001b[39m\u001b[38;5;124maccess_token\u001b[39m\u001b[38;5;124m\"\u001b[39m \u001b[38;5;129;01mnot\u001b[39;00m \u001b[38;5;129;01min\u001b[39;00m token_result:\n\u001b[0;32m     30\u001b[0m     \u001b[38;5;28;01mraise\u001b[39;00m \u001b[38;5;167;01mException\u001b[39;00m(\u001b[38;5;124mf\u001b[39m\u001b[38;5;124m\"\u001b[39m\u001b[38;5;124mAuthentication failed: \u001b[39m\u001b[38;5;132;01m{\u001b[39;00mtoken_result\u001b[38;5;241m.\u001b[39mget(\u001b[38;5;124m'\u001b[39m\u001b[38;5;124merror_description\u001b[39m\u001b[38;5;124m'\u001b[39m)\u001b[38;5;132;01m}\u001b[39;00m\u001b[38;5;124m\"\u001b[39m)\n",
      "File \u001b[1;32mc:\\Users\\nicktinsley\\AppData\\Local\\Programs\\Python\\Python311\\Lib\\site-packages\\msal\\application.py:2293\u001b[0m, in \u001b[0;36mPublicClientApplication.acquire_token_by_device_flow\u001b[1;34m(self, flow, claims_challenge, **kwargs)\u001b[0m\n\u001b[0;32m   2272\u001b[0m \u001b[38;5;250m\u001b[39m\u001b[38;5;124;03m\"\"\"Obtain token by a device flow object, with customizable polling effect.\u001b[39;00m\n\u001b[0;32m   2273\u001b[0m \n\u001b[0;32m   2274\u001b[0m \u001b[38;5;124;03m:param dict flow:\u001b[39;00m\n\u001b[1;32m   (...)\u001b[0m\n\u001b[0;32m   2288\u001b[0m \u001b[38;5;124;03m    - an error response would contain \"error\" and usually \"error_description\".\u001b[39;00m\n\u001b[0;32m   2289\u001b[0m \u001b[38;5;124;03m\"\"\"\u001b[39;00m\n\u001b[0;32m   2290\u001b[0m telemetry_context \u001b[38;5;241m=\u001b[39m \u001b[38;5;28mself\u001b[39m\u001b[38;5;241m.\u001b[39m_build_telemetry_context(\n\u001b[0;32m   2291\u001b[0m     \u001b[38;5;28mself\u001b[39m\u001b[38;5;241m.\u001b[39mACQUIRE_TOKEN_BY_DEVICE_FLOW_ID,\n\u001b[0;32m   2292\u001b[0m     correlation_id\u001b[38;5;241m=\u001b[39mflow\u001b[38;5;241m.\u001b[39mget(\u001b[38;5;28mself\u001b[39m\u001b[38;5;241m.\u001b[39mDEVICE_FLOW_CORRELATION_ID))\n\u001b[1;32m-> 2293\u001b[0m response \u001b[38;5;241m=\u001b[39m _clean_up(\u001b[38;5;28;43mself\u001b[39;49m\u001b[38;5;241;43m.\u001b[39;49m\u001b[43mclient\u001b[49m\u001b[38;5;241;43m.\u001b[39;49m\u001b[43mobtain_token_by_device_flow\u001b[49m\u001b[43m(\u001b[49m\n\u001b[0;32m   2294\u001b[0m \u001b[43m    \u001b[49m\u001b[43mflow\u001b[49m\u001b[43m,\u001b[49m\n\u001b[0;32m   2295\u001b[0m \u001b[43m    \u001b[49m\u001b[43mdata\u001b[49m\u001b[38;5;241;43m=\u001b[39;49m\u001b[38;5;28;43mdict\u001b[39;49m\u001b[43m(\u001b[49m\n\u001b[0;32m   2296\u001b[0m \u001b[43m        \u001b[49m\u001b[43mkwargs\u001b[49m\u001b[38;5;241;43m.\u001b[39;49m\u001b[43mpop\u001b[49m\u001b[43m(\u001b[49m\u001b[38;5;124;43m\"\u001b[39;49m\u001b[38;5;124;43mdata\u001b[39;49m\u001b[38;5;124;43m\"\u001b[39;49m\u001b[43m,\u001b[49m\u001b[43m \u001b[49m\u001b[43m{\u001b[49m\u001b[43m}\u001b[49m\u001b[43m)\u001b[49m\u001b[43m,\u001b[49m\n\u001b[0;32m   2297\u001b[0m \u001b[43m        \u001b[49m\u001b[43mcode\u001b[49m\u001b[38;5;241;43m=\u001b[39;49m\u001b[43mflow\u001b[49m\u001b[43m[\u001b[49m\u001b[38;5;124;43m\"\u001b[39;49m\u001b[38;5;124;43mdevice_code\u001b[39;49m\u001b[38;5;124;43m\"\u001b[39;49m\u001b[43m]\u001b[49m\u001b[43m,\u001b[49m\u001b[43m  \u001b[49m\u001b[38;5;66;43;03m# 2018-10-4 Hack:\u001b[39;49;00m\n\u001b[0;32m   2298\u001b[0m \u001b[43m            \u001b[49m\u001b[38;5;66;43;03m# during transition period,\u001b[39;49;00m\n\u001b[0;32m   2299\u001b[0m \u001b[43m            \u001b[49m\u001b[38;5;66;43;03m# service seemingly need both device_code and code parameter.\u001b[39;49;00m\n\u001b[0;32m   2300\u001b[0m \u001b[43m        \u001b[49m\u001b[43mclaims\u001b[49m\u001b[38;5;241;43m=\u001b[39;49m\u001b[43m_merge_claims_challenge_and_capabilities\u001b[49m\u001b[43m(\u001b[49m\n\u001b[0;32m   2301\u001b[0m \u001b[43m            \u001b[49m\u001b[38;5;28;43mself\u001b[39;49m\u001b[38;5;241;43m.\u001b[39;49m\u001b[43m_client_capabilities\u001b[49m\u001b[43m,\u001b[49m\u001b[43m \u001b[49m\u001b[43mclaims_challenge\u001b[49m\u001b[43m)\u001b[49m\u001b[43m,\u001b[49m\n\u001b[0;32m   2302\u001b[0m \u001b[43m        \u001b[49m\u001b[43m)\u001b[49m\u001b[43m,\u001b[49m\n\u001b[0;32m   2303\u001b[0m \u001b[43m    \u001b[49m\u001b[43mheaders\u001b[49m\u001b[38;5;241;43m=\u001b[39;49m\u001b[43mtelemetry_context\u001b[49m\u001b[38;5;241;43m.\u001b[39;49m\u001b[43mgenerate_headers\u001b[49m\u001b[43m(\u001b[49m\u001b[43m)\u001b[49m\u001b[43m,\u001b[49m\n\u001b[0;32m   2304\u001b[0m \u001b[43m    \u001b[49m\u001b[38;5;241;43m*\u001b[39;49m\u001b[38;5;241;43m*\u001b[39;49m\u001b[43mkwargs\u001b[49m\u001b[43m)\u001b[49m)\n\u001b[0;32m   2305\u001b[0m \u001b[38;5;28;01mif\u001b[39;00m \u001b[38;5;124m\"\u001b[39m\u001b[38;5;124maccess_token\u001b[39m\u001b[38;5;124m\"\u001b[39m \u001b[38;5;129;01min\u001b[39;00m response:\n\u001b[0;32m   2306\u001b[0m     response[\u001b[38;5;28mself\u001b[39m\u001b[38;5;241m.\u001b[39m_TOKEN_SOURCE] \u001b[38;5;241m=\u001b[39m \u001b[38;5;28mself\u001b[39m\u001b[38;5;241m.\u001b[39m_TOKEN_SOURCE_IDP\n",
      "File \u001b[1;32mc:\\Users\\nicktinsley\\AppData\\Local\\Programs\\Python\\Python311\\Lib\\site-packages\\msal\\oauth2cli\\oauth2.py:392\u001b[0m, in \u001b[0;36mClient.obtain_token_by_device_flow\u001b[1;34m(self, flow, exit_condition, **kwargs)\u001b[0m\n\u001b[0;32m    390\u001b[0m \u001b[38;5;28;01mif\u001b[39;00m exit_condition(flow):\n\u001b[0;32m    391\u001b[0m     \u001b[38;5;28;01mreturn\u001b[39;00m result\n\u001b[1;32m--> 392\u001b[0m time\u001b[38;5;241m.\u001b[39msleep(\u001b[38;5;241m1\u001b[39m)\n",
      "\u001b[1;31mKeyboardInterrupt\u001b[0m: "
     ]
    }
   ],
   "source": [
    "import msal\n",
    "import requests\n",
    "\n",
    "# Azure AD App Registration settings\n",
    "# Azure AD and Purview settings\n",
    "client_id = '<YOUR_CLIENT_ID>'  # Azure AD App Registration Client ID\n",
    "tenant_id = '<YOUR_TENANT_ID>'  # Azure AD Tenant ID\n",
    "purview_account_name = '<YOUR_PURVIEW_ACCOUNT_NAME>'  # Purview account name\n",
    "purview_endpoint = f\"https://{purview_account_name}.purview.azure.com\"\n",
    "\n",
    "\n",
    "# Authentication authority and scope for Purview API\n",
    "authority = f\"https://login.microsoftonline.com/{tenant_id}\"\n",
    "scope = [\"https://purview.azure.net/.default\"]  # API scope for Azure Purview\n",
    "\n",
    "# Initialize MSAL public client application\n",
    "app = msal.PublicClientApplication(client_id, authority=authority)\n",
    "\n",
    "# Initiate the device code flow for interactive authentication\n",
    "flow = app.initiate_device_flow(scopes=scope)\n",
    "if \"user_code\" not in flow:\n",
    "    raise Exception(\"Device flow initiation failed.\")\n",
    "\n",
    "# Display the code and URL for the user to authenticate\n",
    "print(f\"Go to {flow['verification_uri']} and enter the code: {flow['user_code']}\")\n",
    "\n",
    "# Wait for user to complete authentication and MFA\n",
    "token_result = app.acquire_token_by_device_flow(flow)\n",
    "if \"access_token\" not in token_result:\n",
    "    raise Exception(f\"Authentication failed: {token_result.get('error_description')}\")\n",
    "\n",
    "access_token = token_result['access_token']\n",
    "\n",
    "# Set up the headers for the Purview Search API request\n",
    "headers = {\n",
    "    \"Authorization\": f\"Bearer {access_token}\",\n",
    "    \"Content-Type\": \"application/json\"\n",
    "}\n",
    "\n",
    "# Define the search query (customize as needed)\n",
    "search_url = f\"{purview_endpoint}/catalog/api/atlas/v2/search/advanced\"\n",
    "search_body = {\n",
    "    \"keywords\": \"HR\",  # Replace with your search term\n",
    "    \"limit\": 10  # Limit the number of search results\n",
    "}\n",
    "\n",
    "# Make the search API request\n",
    "response = requests.post(search_url, json=search_body, headers=headers)\n",
    "\n",
    "# Check and print the response\n",
    "if response.status_code == 200:\n",
    "    search_results = response.json().get('entities', [])\n",
    "    for asset in search_results:\n",
    "        print(f\"Name: {asset['attributes']['name']}, Type: {asset['typeName']}, GUID: {asset['guid']}\")\n",
    "else:\n",
    "    print(f\"Search API call failed: {response.text}\")\n",
    "\n"
   ]
  }
 ],
 "metadata": {
  "kernelspec": {
   "display_name": "Python 3",
   "language": "python",
   "name": "python3"
  },
  "language_info": {
   "codemirror_mode": {
    "name": "ipython",
    "version": 3
   },
   "file_extension": ".py",
   "mimetype": "text/x-python",
   "name": "python",
   "nbconvert_exporter": "python",
   "pygments_lexer": "ipython3",
   "version": "3.11.9"
  }
 },
 "nbformat": 4,
 "nbformat_minor": 2
}
