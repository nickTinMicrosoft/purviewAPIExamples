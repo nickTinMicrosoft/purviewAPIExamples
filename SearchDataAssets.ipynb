{
 "cells": [
  {
   "cell_type": "markdown",
   "metadata": {},
   "source": [
    "# Search Assets\n",
    "\n",
    "To search for data assets in Azure Purview using its REST API, you can use the search endpoint to query data assets based on specific criteria like name, classification, or other metadata.\n",
    "\n",
    "\n",
    "## Code Breakdown:\n",
    "### Authentication:\n",
    "The get_access_token() function uses azure.identity.ClientSecretCredential to authenticate using client credentials and obtain an access token.\n",
    "Search Data Assets:\n",
    "\n",
    "The search_data_assets() function sends a POST request to the /search/advanced API endpoint. The keywords in the body represent the search term, and you can specify a limit for the number of results.\n",
    "\n",
    "Handle Results:\n",
    "The function processes the JSON response, extracts data asset details (like name, type, and GUID), and prints the result.\n"
   ]
  },
  {
   "cell_type": "code",
   "execution_count": 1,
   "metadata": {},
   "outputs": [],
   "source": [
    "import requests\n",
    "from azure.identity import ClientSecretCredential"
   ]
  },
  {
   "cell_type": "code",
   "execution_count": 2,
   "metadata": {},
   "outputs": [],
   "source": [
    "\n",
    "\n",
    "# Azure AD and Purview settings\n",
    "client_id = 'YOUR_CLIENT_ID' ## FROM APP REGISTRATION\n",
    "client_secret = '<YOUR_CLIENT_SECRET>' ## FROM APP REGISTRATION SECRET VALUE\n",
    "tenant_id = '<YOUR_TENANT_ID>'\n",
    "purview_account_name = '<YOUR_PURVIEW_ACCOUNT_NAME>'\n",
    "purview_endpoint = f'https://{purview_account_name}.purview.azure.com'\n",
    "\n",
    "# Authenticate using Azure AD to get the access token\n",
    "def get_access_token():\n",
    "    credential = ClientSecretCredential(tenant_id, client_id, client_secret)\n",
    "    token = credential.get_token('https://purview.azure.net/.default')\n",
    "    return token.token\n",
    "\n",
    "# Search data assets in Purview\n",
    "def search_data_assets(search_term):\n",
    "    url = f\"{purview_endpoint}/catalog/api/atlas/v2/search/advanced\"\n",
    "    headers = {\n",
    "        \"Authorization\": f\"Bearer {get_access_token()}\",\n",
    "        \"Content-Type\": \"application/json\"\n",
    "    }\n",
    "\n",
    "    # Define the search body\n",
    "    body = {\n",
    "        \"keywords\": search_term,  # Search term or keywords\n",
    "        \"limit\": 10               # Limit the number of results\n",
    "    }\n",
    "\n",
    "    response = requests.post(url, json=body, headers=headers)\n",
    "    \n",
    "    if response.status_code == 200:\n",
    "        assets = response.json().get('entities', [])\n",
    "        if assets:\n",
    "            for asset in assets:\n",
    "                print(f\"Name: {asset['attributes']['name']}, Type: {asset['typeName']}, GUID: {asset['guid']}\")\n",
    "        else:\n",
    "            print(\"No assets found.\")\n",
    "    else:\n",
    "        print(f\"Failed to search data assets: {response.text}\")\n",
    "\n"
   ]
  },
  {
   "cell_type": "code",
   "execution_count": null,
   "metadata": {},
   "outputs": [],
   "source": [
    "\n",
    "# Example usage\n",
    "search_term = 'HR'  # You can search by keywords related to the data asset\n",
    "search_data_assets(search_term)"
   ]
  },
  {
   "cell_type": "markdown",
   "metadata": {},
   "source": [
    "### Sample Response\n",
    "\n",
    "Name: sales-data-2023, Type: azure_blob_storage, GUID: 1234abcd-5678-efgh-ijkl-1234mnopqr\n",
    "Name: sales-data-2022, Type: azure_sql_table, GUID: 5678mnop-1234-abcd-efgh-5678ijklqrst\n"
   ]
  },
  {
   "cell_type": "markdown",
   "metadata": {},
   "source": [
    "## how to use API using MFA \n"
   ]
  },
  {
   "cell_type": "code",
   "execution_count": null,
   "metadata": {},
   "outputs": [],
   "source": [
    "import msal\n",
    "import requests\n",
    "\n",
    "# Azure AD App Registration settings\n",
    "# Azure AD and Purview settings\n",
    "client_id = '<YOUR_CLIENT_ID>'  # Azure AD App Registration Client ID\n",
    "tenant_id = '<YOUR_TENANT_ID>'  # Azure AD Tenant ID\n",
    "purview_account_name = '<YOUR_PURVIEW_ACCOUNT_NAME>'  # Purview account name\n",
    "purview_endpoint = f\"https://{purview_account_name}.purview.azure.com\"\n",
    "\n",
    "\n",
    "# Authentication authority and scope for Purview API\n",
    "authority = f\"https://login.microsoftonline.com/{tenant_id}\"\n",
    "scope = [\"https://purview.azure.net/.default\"]  # API scope for Azure Purview\n",
    "\n",
    "# Initialize MSAL public client application\n",
    "app = msal.PublicClientApplication(client_id, authority=authority)\n",
    "\n",
    "# Initiate the device code flow for interactive authentication\n",
    "flow = app.initiate_device_flow(scopes=scope)\n",
    "if \"user_code\" not in flow:\n",
    "    raise Exception(\"Device flow initiation failed.\")\n",
    "\n",
    "# Display the code and URL for the user to authenticate\n",
    "print(f\"Go to {flow['verification_uri']} and enter the code: {flow['user_code']}\")\n",
    "\n",
    "# Wait for user to complete authentication and MFA\n",
    "token_result = app.acquire_token_by_device_flow(flow)\n",
    "if \"access_token\" not in token_result:\n",
    "    raise Exception(f\"Authentication failed: {token_result.get('error_description')}\")\n",
    "\n",
    "access_token = token_result['access_token']\n",
    "\n",
    "# Set up the headers for the Purview Search API request\n",
    "headers = {\n",
    "    \"Authorization\": f\"Bearer {access_token}\",\n",
    "    \"Content-Type\": \"application/json\"\n",
    "}\n",
    "\n",
    "# Define the search query (customize as needed)\n",
    "search_url = f\"{purview_endpoint}/catalog/api/atlas/v2/search/advanced\"\n",
    "search_body = {\n",
    "    \"keywords\": \"HR\",  # Replace with your search term\n",
    "    \"limit\": 10  # Limit the number of search results\n",
    "}\n",
    "\n",
    "# Make the search API request\n",
    "response = requests.post(search_url, json=search_body, headers=headers)\n",
    "\n",
    "# Check and print the response\n",
    "if response.status_code == 200:\n",
    "    search_results = response.json().get('entities', [])\n",
    "    for asset in search_results:\n",
    "        print(f\"Name: {asset['attributes']['name']}, Type: {asset['typeName']}, GUID: {asset['guid']}\")\n",
    "else:\n",
    "    print(f\"Search API call failed: {response.text}\")\n",
    "\n"
   ]
  }
 ],
 "metadata": {
  "kernelspec": {
   "display_name": "Python 3",
   "language": "python",
   "name": "python3"
  },
  "language_info": {
   "codemirror_mode": {
    "name": "ipython",
    "version": 3
   },
   "file_extension": ".py",
   "mimetype": "text/x-python",
   "name": "python",
   "nbconvert_exporter": "python",
   "pygments_lexer": "ipython3",
   "version": "3.11.9"
  }
 },
 "nbformat": 4,
 "nbformat_minor": 2
}
