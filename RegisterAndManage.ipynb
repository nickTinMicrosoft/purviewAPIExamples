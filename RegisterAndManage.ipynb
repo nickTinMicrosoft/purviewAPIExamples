{
 "cells": [
  {
   "cell_type": "markdown",
   "metadata": {},
   "source": [
    "# Register & Manage Data Sources\n",
    "\n",
    "You can use the API to register new data sources or update existing ones. For example, registering Azure Data Lake, SQL databases, or other cloud/on-premises data sources.\n",
    "\n",
    "1. Authentication: The function get_access_token() uses the azure.identity.ClientSecretCredential to obtain an OAuth token to authenticate API requests.\n",
    "\n",
    "2. Register Data Source: The register_data_source() function uses the Purview REST API to create a new data source by specifying its name, type, and connection string.\n",
    "\n",
    "3. API Request: The data source is registered by sending a POST request to the /catalog/api/atlas/v2/entity endpoint, with the appropriate headers and JSON body.\n"
   ]
  },
  {
   "cell_type": "code",
   "execution_count": null,
   "metadata": {},
   "outputs": [],
   "source": [
    "import requests\n",
    "from azure.identity import ClientSecretCredential"
   ]
  },
  {
   "cell_type": "code",
   "execution_count": null,
   "metadata": {},
   "outputs": [],
   "source": [
    "\n",
    "\n",
    "# Azure AD and Purview settings\n",
    "client_id = '<YOUR_CLIENT_ID>'\n",
    "client_secret = '<YOUR_CLIENT_SECRET>'\n",
    "tenant_id = '<YOUR_TENANT_ID>'\n",
    "purview_account_name = '<YOUR_PURVIEW_ACCOUNT_NAME>'\n",
    "purview_endpoint = f'https://{purview_account_name}.purview.azure.com'\n",
    "\n",
    "# Authenticate using Azure AD to get the access token\n",
    "def get_access_token():\n",
    "    credential = ClientSecretCredential(tenant_id, client_id, client_secret)\n",
    "    token = credential.get_token('https://purview.azure.net/.default')\n",
    "    return token.token\n",
    "\n",
    "# Register a new data source in Purview\n",
    "def register_data_source(data_source_name, data_source_type, connection_string):\n",
    "    url = f\"{purview_endpoint}/catalog/api/atlas/v2/entity\"\n",
    "    headers = {\n",
    "        \"Authorization\": f\"Bearer {get_access_token()}\",\n",
    "        \"Content-Type\": \"application/json\"\n",
    "    }\n",
    "\n",
    "    # Define the body of the request with data source details\n",
    "    body = {\n",
    "        \"entities\": [\n",
    "            {\n",
    "                \"typeName\": data_source_type,  # e.g., 'azure_datalake_gen2_account'\n",
    "                \"attributes\": {\n",
    "                    \"name\": data_source_name,\n",
    "                    \"qualifiedName\": connection_string,\n",
    "                    \"connectionString\": connection_string\n",
    "                }\n",
    "            }\n",
    "        ]\n",
    "    }\n",
    "\n",
    "    response = requests.post(url, json=body, headers=headers)\n",
    "    if response.status_code == 200:\n",
    "        print(f\"Data source '{data_source_name}' registered successfully.\")\n",
    "    else:\n",
    "        print(f\"Failed to register data source: {response.text}\")\n",
    "\n",
    "# Example usage\n",
    "data_source_name = 'my-datalake'\n",
    "data_source_type = 'azure_datalake_gen2_account'  # This could vary depending on the data source type\n",
    "connection_string = 'https://mydatalake.dfs.core.windows.net'\n",
    "\n",
    "register_data_source(data_source_name, data_source_type, connection_string)\n"
   ]
  }
 ],
 "metadata": {
  "kernelspec": {
   "display_name": "Python 3",
   "language": "python",
   "name": "python3"
  },
  "language_info": {
   "name": "python",
   "version": "3.11.9"
  }
 },
 "nbformat": 4,
 "nbformat_minor": 2
}
