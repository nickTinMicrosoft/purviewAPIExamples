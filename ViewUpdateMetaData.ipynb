{
 "cells": [
  {
   "cell_type": "markdown",
   "metadata": {},
   "source": [
    "# View and Update Metadata\n",
    "\n",
    "## Code Breakdown:\n",
    "\n",
    "### Authentication:\n",
    "\n",
    "1. The get_access_token() function uses Azure AD client credentials to authenticate and obtain a bearer token.\n",
    "View Metadata:\n",
    "\n",
    "2. The view_metadata() function sends a GET request to the /entity/guid/{asset_guid} endpoint to retrieve metadata for the specified data asset using its GUID.\n",
    "The function prints and returns the current metadata of the data asset.\n",
    "Update Metadata:\n",
    "\n",
    "3. The update_metadata() function fetches the existing metadata and then sends a PUT request to update the metadata (e.g., description) of the data asset.\n",
    "You can modify other attributes as needed by adding them to the attributes dictionary in the request body."
   ]
  },
  {
   "cell_type": "code",
   "execution_count": 7,
   "metadata": {},
   "outputs": [],
   "source": [
    "import requests\n",
    "from azure.identity import ClientSecretCredential"
   ]
  },
  {
   "cell_type": "code",
   "execution_count": 8,
   "metadata": {},
   "outputs": [],
   "source": [
    "\n",
    "\n",
    "# Azure AD and Purview settings\n",
    "client_id = 'YOUR_CLIENT_ID' ## FROM APP REGISTRATION\n",
    "client_secret = '<YOUR_CLIENT_SECRET>' ## FROM APP REGISTRATION SECRET VALUE\n",
    "tenant_id = '<YOUR_TENANT_ID>'\n",
    "purview_account_name = '<YOUR_PURVIEW_ACCOUNT_NAME>'\n",
    "purview_endpoint = f'https://{purview_account_name}.purview.azure.com'\n",
    "\n",
    "# Authenticate using Azure AD to get the access token\n",
    "def get_access_token():\n",
    "    credential = ClientSecretCredential(tenant_id, client_id, client_secret)\n",
    "    token = credential.get_token('https://purview.azure.net/.default')\n",
    "    return token.token\n",
    "\n",
    "# View metadata for a specific data asset using its GUID\n",
    "def view_metadata(asset_guid):\n",
    "    url = f\"{purview_endpoint}/catalog/api/atlas/v2/entity/guid/{asset_guid}\"\n",
    "    headers = {\n",
    "        \"Authorization\": f\"Bearer {get_access_token()}\",\n",
    "        \"Content-Type\": \"application/json\"\n",
    "    }\n",
    "\n",
    "    response = requests.get(url, headers=headers)\n",
    "    \n",
    "    if response.status_code == 200:\n",
    "        asset_metadata = response.json()\n",
    "        print(f\"Asset Metadata: {asset_metadata}\")\n",
    "        return asset_metadata\n",
    "    else:\n",
    "        print(f\"Failed to fetch metadata: {response.text}\")\n",
    "\n",
    "# Update metadata for a specific data asset\n",
    "def update_metadata(asset_guid, updated_description):\n",
    "    url = f\"{purview_endpoint}/catalog/api/atlas/v2/entity\"\n",
    "    headers = {\n",
    "        \"Authorization\": f\"Bearer {get_access_token()}\",\n",
    "        \"Content-Type\": \"application/json\"\n",
    "    }\n",
    "\n",
    "    # Fetch existing metadata to update\n",
    "    current_metadata = view_metadata(asset_guid)\n",
    "\n",
    "    # Modify the asset's description attribute\n",
    "    updated_entity = {\n",
    "        \"entities\": [\n",
    "            {\n",
    "                \"guid\": asset_guid,\n",
    "                \"typeName\": current_metadata['entity']['typeName'],\n",
    "                \"attributes\": {\n",
    "                    \"description\": updated_description,\n",
    "                    # Add or update more metadata attributes if needed\n",
    "                }\n",
    "            }\n",
    "        ]\n",
    "    }\n",
    "\n",
    "    response = requests.put(url, json=updated_entity, headers=headers)\n",
    "    \n",
    "    if response.status_code == 200:\n",
    "        print(f\"Metadata for asset '{asset_guid}' updated successfully.\")\n",
    "    else:\n",
    "        print(f\"Failed to update metadata: {response.text}\")\n",
    "\n",
    "\n"
   ]
  },
  {
   "cell_type": "code",
   "execution_count": null,
   "metadata": {},
   "outputs": [],
   "source": [
    "# Example usage\n",
    "asset_guid = '<DATA_ASSET_GUID>'  # Replace with your data asset's GUID\n",
    "new_description = \"Updated description for the data asset.\"\n",
    "\n",
    "# View current metadata\n",
    "view_metadata(asset_guid)\n",
    "\n",
    "# Update metadata (e.g., updating the description)\n",
    "# update_metadata(asset_guid, new_description)"
   ]
  },
  {
   "cell_type": "markdown",
   "metadata": {},
   "source": [
    "# Sample Response for Viewing Metadata\n",
    "\n",
    "{\n",
    "  \"entity\": {\n",
    "    \"guid\": \"abcd1234-efgh-5678-ijkl-1234mnop5678\",\n",
    "    \"typeName\": \"azure_blob_storage\",\n",
    "    \"attributes\": {\n",
    "      \"name\": \"sales-data-2023\",\n",
    "      \"qualifiedName\": \"https://myblob.blob.core.windows.net/sales-data-2023\",\n",
    "      \"description\": \"Sales data for the year 2023\"\n",
    "    }\n",
    "  }\n",
    "}\n"
   ]
  },
  {
   "cell_type": "markdown",
   "metadata": {},
   "source": [
    "# Sample response for updating metadata\n",
    "\n",
    "Metadata for asset 'abcd1234-efgh-5678-ijkl-1234mnop5678' updated successfully.\n"
   ]
  }
 ],
 "metadata": {
  "kernelspec": {
   "display_name": "Python 3",
   "language": "python",
   "name": "python3"
  },
  "language_info": {
   "codemirror_mode": {
    "name": "ipython",
    "version": 3
   },
   "file_extension": ".py",
   "mimetype": "text/x-python",
   "name": "python",
   "nbconvert_exporter": "python",
   "pygments_lexer": "ipython3",
   "version": "3.11.9"
  }
 },
 "nbformat": 4,
 "nbformat_minor": 2
}
